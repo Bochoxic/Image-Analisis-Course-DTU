{
 "cells": [
  {
   "cell_type": "markdown",
   "id": "e9a03da8",
   "metadata": {},
   "source": [
    "# Exercise 2 - Cameras and Lenses\n",
    "## Introduction\n",
    "The purpose of this exercise is to use Python to calculate camera and scene specific values.\n",
    "## Learning Objectives\n",
    "After completing this exercise, the student should be able to do the following: create a Python function that uses the thin lens equation to compute either the focal length (f), where the rays are focused (b) or an object distance (g) when two of the other measurements are given.\n",
    "## Computing camera parameters\n",
    "### Exercise 1\n",
    "Explain how to calculate the angle \\theta when a and b is given in the figure below. Calculate \\theta (in degrees) when a=10 and b=3 using the function math.atan2(). Remember to import math and find out what atan2 does.\n",
    "\n"
   ]
  },
  {
   "cell_type": "code",
   "execution_count": 2,
   "id": "1dd5331f",
   "metadata": {},
   "outputs": [
    {
     "name": "stdout",
     "output_type": "stream",
     "text": [
      "The value of the angle is: 73.30075576600638\n"
     ]
    }
   ],
   "source": [
    "import math\n",
    "a=10\n",
    "b=3\n",
    "theta_rad=math.atan2(a,b)\n",
    "theta_deg=theta_rad*180/math.pi\n",
    "print(f'The value of the angle is: {theta_deg}' )"
   ]
  },
  {
   "cell_type": "code",
   "execution_count": 3,
   "id": "ace5fe25",
   "metadata": {},
   "outputs": [],
   "source": [
    "def camera_b_distance(f,g):\n",
    "    \"\"\"\n",
    "    camera_b_distance returns the distance (b) where the CCD\n",
    "    should be placed when the object distance (g) and the\n",
    "    focal length (f) are given\n",
    "    :param f: Focal length (meters)\n",
    "    :param g: Object distance (meters)\n",
    "    :return: b (meters), the distance where the CCD should be\n",
    "    placed\n",
    "    \"\"\" \n",
    "    b=(-f*g)/(f+g)\n",
    "    return b"
   ]
  },
  {
   "cell_type": "code",
   "execution_count": 8,
   "id": "87ae7c9d",
   "metadata": {},
   "outputs": [
    {
     "data": {
      "text/plain": [
       "-0.0009999333377774815"
      ]
     },
     "execution_count": 8,
     "metadata": {},
     "output_type": "execute_result"
    }
   ],
   "source": [
    "camera_b_distance(1/1000,15)"
   ]
  },
  {
   "cell_type": "markdown",
   "id": "e9ff0bcf",
   "metadata": {},
   "source": [
    "## Camera exercise\n",
    "In the following exercise, you should remember to explain when something is in mm and when it is in meters. To convert between radians and degrees you can use:"
   ]
  },
  {
   "cell_type": "markdown",
   "id": "c8613d0b",
   "metadata": {},
   "source": [
    "### Exercise 3\n",
    "Thomas is 1.8 meters tall and standing 5 meters from a camera. The cameras focal length is 5 mm. The CCD in the camera can be seen in the figure below. It is a 1/2\" (inches) CCD chip and the image formed by the CCD is 640x480 pixels in a (x,y) coordinate system.\n",
    "\n",
    "It is easiest to start by drawing the scene. The scene should contain the optical axis, the optical center, the lens, the focal point, the CCD chip, and Thomas. Do it on paper or even better in a drawing program.\n",
    "\n",
    "1. A focused image of Thomas is formed inside the camera. At which distance from the lens?\n",
    "2. How tall (in mm) will Thomas be on the CCD-chip?\n",
    "3. What is the size of a single pixel on the CCD chip? (in mm)?\n",
    "4. How tall (in pixels) will Thomas be on the CCD-chip?\n",
    "5. What is the horizontal field-of-view (in degrees)?\n",
    "6. What is the vertical field-of-view (in degrees)?\n"
   ]
  },
  {
   "cell_type": "code",
   "execution_count": 24,
   "id": "d64756e3",
   "metadata": {},
   "outputs": [
    {
     "name": "stdout",
     "output_type": "stream",
     "text": [
      "Thomas is 0.005 from de lens\n",
      "Thomas will be 1.798 mm on the CCD-chip\n",
      "The distance of a single pixel in the x axe is 0.01 (mm) and in the y axe is 0.01 (mm)\n",
      "Thomas will measure 179.82 pixels on the CCD-chip\n"
     ]
    }
   ],
   "source": [
    "G=1.8 #meters\n",
    "g=5 #meters\n",
    "f=5/1000 #meters\n",
    "x=640 #pixels\n",
    "y=480 #pixels\n",
    "dx=6.4 #milimeters\n",
    "dy=4.8 #milimeters\n",
    "distance=camera_b_distance(f,g) #meters\n",
    "B=G*distance/g*1000 #milimeters\n",
    "dpx= dx/x #distance of a single pixel (milimeters)\n",
    "dpy= dy/y #distance of a single pixels (milimeters)\n",
    "print(f'Thomas is {round(abs(distance),4)} from de lens')\n",
    "print(f'Thomas will be {round(abs(B),3)} mm on the CCD-chip')\n",
    "print(f'The distance of a single pixel in the x axe is {dpx} (mm) and in the y axe is {dpy} (mm)')\n",
    "print(f'Thomas will measure {round(abs(B/dpx),3)} pixels on the CCD-chip')\n",
    "#Faltan pregunta cinco y seis"
   ]
  }
 ],
 "metadata": {
  "kernelspec": {
   "display_name": "Python 3 (ipykernel)",
   "language": "python",
   "name": "python3"
  },
  "language_info": {
   "codemirror_mode": {
    "name": "ipython",
    "version": 3
   },
   "file_extension": ".py",
   "mimetype": "text/x-python",
   "name": "python",
   "nbconvert_exporter": "python",
   "pygments_lexer": "ipython3",
   "version": "3.9.12"
  }
 },
 "nbformat": 4,
 "nbformat_minor": 5
}
